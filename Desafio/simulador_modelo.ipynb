{
 "cells": [
  {
   "cell_type": "code",
   "execution_count": 1,
   "metadata": {},
   "outputs": [
    {
     "ename": "FileNotFoundError",
     "evalue": "[Errno 2] No such file or directory: 'modelo_preço'",
     "output_type": "error",
     "traceback": [
      "\u001b[1;31m---------------------------------------------------------------------------\u001b[0m",
      "\u001b[1;31mFileNotFoundError\u001b[0m                         Traceback (most recent call last)",
      "\u001b[1;32mc:\\Users\\Fabiano\\OneDrive - Associacao Antonio Vieira\\TI\\Git\\Alura-13-Regressao-linear-testando-relacoes-e-prevendo-resultados\\Desafio\\simulador_modelo.ipynb Célula: 1\u001b[0m in \u001b[0;36m<module>\u001b[1;34m\u001b[0m\n\u001b[0;32m      <a href='vscode-notebook-cell:/c%3A/Users/Fabiano/OneDrive%20-%20Associacao%20Antonio%20Vieira/TI/Git/Alura-13-Regressao-linear-testando-relacoes-e-prevendo-resultados/Desafio/simulador_modelo.ipynb#W0sZmlsZQ%3D%3D?line=0'>1</a>\u001b[0m \u001b[39mimport\u001b[39;00m \u001b[39mpickle\u001b[39;00m\n\u001b[1;32m----> <a href='vscode-notebook-cell:/c%3A/Users/Fabiano/OneDrive%20-%20Associacao%20Antonio%20Vieira/TI/Git/Alura-13-Regressao-linear-testando-relacoes-e-prevendo-resultados/Desafio/simulador_modelo.ipynb#W0sZmlsZQ%3D%3D?line=2'>3</a>\u001b[0m modelo \u001b[39m=\u001b[39m \u001b[39mopen\u001b[39;49m(\u001b[39m'\u001b[39;49m\u001b[39mmodelo_preço\u001b[39;49m\u001b[39m'\u001b[39;49m,\u001b[39m'\u001b[39;49m\u001b[39mrb\u001b[39;49m\u001b[39m'\u001b[39;49m)\n\u001b[0;32m      <a href='vscode-notebook-cell:/c%3A/Users/Fabiano/OneDrive%20-%20Associacao%20Antonio%20Vieira/TI/Git/Alura-13-Regressao-linear-testando-relacoes-e-prevendo-resultados/Desafio/simulador_modelo.ipynb#W0sZmlsZQ%3D%3D?line=3'>4</a>\u001b[0m lm_new \u001b[39m=\u001b[39m pickle\u001b[39m.\u001b[39mload(modelo)\n\u001b[0;32m      <a href='vscode-notebook-cell:/c%3A/Users/Fabiano/OneDrive%20-%20Associacao%20Antonio%20Vieira/TI/Git/Alura-13-Regressao-linear-testando-relacoes-e-prevendo-resultados/Desafio/simulador_modelo.ipynb#W0sZmlsZQ%3D%3D?line=4'>5</a>\u001b[0m modelo\u001b[39m.\u001b[39mclose()\n",
      "\u001b[1;31mFileNotFoundError\u001b[0m: [Errno 2] No such file or directory: 'modelo_preço'"
     ]
    }
   ],
   "source": [
    "import pickle\n",
    "\n",
    "modelo = open('modelo_preço','rb')\n",
    "lm_new = pickle.load(modelo)\n",
    "modelo.close()\n",
    "\n",
    "area = 38\n",
    "garagem = 2\n",
    "banheiros = 4\n",
    "lareira = 4\n",
    "marmore = 0\n",
    "andares = 1\n",
    "\n",
    "entrada = [[area, garagem, banheiros, lareira, marmore, andares]]\n",
    "\n",
    "print('$ {0:.2f}'.format(lm_new.predict(entrada)[0]))"
   ]
  }
 ],
 "metadata": {
  "kernelspec": {
   "display_name": "Python 3.8.x 64-bit (microsoft store)",
   "language": "python",
   "name": "python3"
  },
  "language_info": {
   "codemirror_mode": {
    "name": "ipython",
    "version": 3
   },
   "file_extension": ".py",
   "mimetype": "text/x-python",
   "name": "python",
   "nbconvert_exporter": "python",
   "pygments_lexer": "ipython3",
   "version": "3.8.10"
  },
  "orig_nbformat": 4,
  "vscode": {
   "interpreter": {
    "hash": "13cdfccf60e4bccbdef0456c10301096023a3773ef48a1440c8e3da9ec9220d7"
   }
  }
 },
 "nbformat": 4,
 "nbformat_minor": 2
}
